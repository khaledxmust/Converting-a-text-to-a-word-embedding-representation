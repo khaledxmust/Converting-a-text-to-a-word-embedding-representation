{
 "cells": [
  {
   "cell_type": "code",
   "execution_count": 1,
   "metadata": {},
   "outputs": [],
   "source": [
    "import nltk\n",
    "import numpy as np\n",
    "import pandas as pd\n",
    "from sklearn import svm\n",
    "from sklearn import metrics\n",
    "from sklearn import naive_bayes\n",
    "from gensim.models import KeyedVectors\n",
    "from sklearn.linear_model import LogisticRegression\n",
    "from sklearn.model_selection import train_test_split \n",
    "\n",
    "my_columns = ['label', 'tweet']\n",
    "model = KeyedVectors.load_word2vec_format('GoogleNews-vectors-negative300.bin', binary=True)\n",
    "Data = pd.read_csv(\"Airline-Sentiment.csv\", header=None, names=my_columns, encoding = \"ISO-8859-1\")\n",
    "Data = Data.drop(0)\n",
    "#print(Data[:5])"
   ]
  },
  {
   "cell_type": "code",
   "execution_count": 29,
   "metadata": {},
   "outputs": [
    {
     "name": "stderr",
     "output_type": "stream",
     "text": [
      "C:\\Users\\khled\\AppData\\Local\\Continuum\\anaconda3\\lib\\site-packages\\ipykernel_launcher.py:7: DeprecationWarning: Call to deprecated `wv` (Attribute will be removed in 4.0.0, use self instead).\n",
      "  import sys\n"
     ]
    }
   ],
   "source": [
    "#Transform tweets to array\n",
    "Tweets_wv = []\n",
    "for i in range(1,2993):\n",
    "    F = 1\n",
    "    Sentince = [0]*300\n",
    "    for x in Data['tweet'][i].split():\n",
    "        found = x in model.wv\n",
    "        if found:\n",
    "            F += 1\n",
    "            Sentince = Sentince + model[x]\n",
    "    Sentince = [ e / F-1 for e in Sentince ]\n",
    "    Tweets_wv.append(Sentince)\n",
    "\n",
    "#print(len(Tweets_wv[0]))"
   ]
  },
  {
   "cell_type": "code",
   "execution_count": 30,
   "metadata": {},
   "outputs": [],
   "source": [
    "from sklearn.preprocessing import MinMaxScaler\n",
    "Scaler = MinMaxScaler()\n",
    "Tweets_wv = Scaler.fit_transform(Tweets_wv)\n",
    "#print(Tweets_wv[0])"
   ]
  },
  {
   "cell_type": "code",
   "execution_count": 31,
   "metadata": {},
   "outputs": [],
   "source": [
    "trData,tsData,trLabels,tsLabels = train_test_split(Tweets_wv,Data['label'], test_size=0.3,random_state=0)"
   ]
  },
  {
   "cell_type": "code",
   "execution_count": 32,
   "metadata": {},
   "outputs": [
    {
     "name": "stdout",
     "output_type": "stream",
     "text": [
      "accuracy = 61.69265033407573%\n",
      "              precision    recall  f1-score   support\n",
      "\n",
      "    negative       0.67      0.63      0.65       321\n",
      "     neutral       0.50      0.63      0.56       291\n",
      "    positive       0.73      0.59      0.65       286\n",
      "\n",
      "   micro avg       0.62      0.62      0.62       898\n",
      "   macro avg       0.63      0.62      0.62       898\n",
      "weighted avg       0.63      0.62      0.62       898\n",
      "\n"
     ]
    }
   ],
   "source": [
    "#Naïve Bayes Multinomial\n",
    "Clf = naive_bayes.MultinomialNB()\n",
    "Clf.fit(trData,trLabels)\n",
    "Pred = Clf.predict(tsData)\n",
    "acc = metrics.accuracy_score(tsLabels,Pred)\n",
    "print ('accuracy = '+str(acc*100)+'%')\n",
    "print (metrics.classification_report(tsLabels,Pred))"
   ]
  },
  {
   "cell_type": "code",
   "execution_count": 33,
   "metadata": {},
   "outputs": [
    {
     "name": "stdout",
     "output_type": "stream",
     "text": [
      "accuracy = 67.37193763919822%\n",
      "              precision    recall  f1-score   support\n",
      "\n",
      "    negative       0.72      0.77      0.74       321\n",
      "     neutral       0.60      0.55      0.57       291\n",
      "    positive       0.69      0.70      0.69       286\n",
      "\n",
      "   micro avg       0.67      0.67      0.67       898\n",
      "   macro avg       0.67      0.67      0.67       898\n",
      "weighted avg       0.67      0.67      0.67       898\n",
      "\n"
     ]
    }
   ],
   "source": [
    "#SVM (Linear Kernel)\n",
    "Clf = svm.SVC(kernel='linear', C=1)\n",
    "Clf.fit(trData,trLabels)\n",
    "Pred = Clf.predict(tsData)\n",
    "acc = metrics.accuracy_score(tsLabels,Pred)\n",
    "print ('accuracy = '+str(acc*100)+'%')\n",
    "print (metrics.classification_report(tsLabels,Pred))"
   ]
  },
  {
   "cell_type": "code",
   "execution_count": 35,
   "metadata": {},
   "outputs": [
    {
     "name": "stderr",
     "output_type": "stream",
     "text": [
      "C:\\Users\\khled\\AppData\\Local\\Continuum\\anaconda3\\lib\\site-packages\\sklearn\\svm\\base.py:196: FutureWarning: The default value of gamma will change from 'auto' to 'scale' in version 0.22 to account better for unscaled features. Set gamma explicitly to 'auto' or 'scale' to avoid this warning.\n",
      "  \"avoid this warning.\", FutureWarning)\n"
     ]
    },
    {
     "name": "stdout",
     "output_type": "stream",
     "text": [
      "accuracy = 47.32739420935412%\n",
      "              precision    recall  f1-score   support\n",
      "\n",
      "    negative       0.76      0.11      0.19       321\n",
      "     neutral       0.38      0.90      0.53       291\n",
      "    positive       0.82      0.45      0.58       286\n",
      "\n",
      "   micro avg       0.47      0.47      0.47       898\n",
      "   macro avg       0.65      0.49      0.43       898\n",
      "weighted avg       0.65      0.47      0.42       898\n",
      "\n"
     ]
    }
   ],
   "source": [
    "#SVM (RBF)\n",
    "Clf = svm.SVC(kernel='rbf')\n",
    "Clf.fit(trData,trLabels)\n",
    "Pred = Clf.predict(tsData)\n",
    "acc = metrics.accuracy_score(tsLabels,Pred)\n",
    "print ('accuracy = '+str(acc*100)+'%')\n",
    "print (metrics.classification_report(tsLabels,Pred))"
   ]
  },
  {
   "cell_type": "code",
   "execution_count": 36,
   "metadata": {},
   "outputs": [
    {
     "name": "stderr",
     "output_type": "stream",
     "text": [
      "C:\\Users\\khled\\AppData\\Local\\Continuum\\anaconda3\\lib\\site-packages\\sklearn\\linear_model\\logistic.py:433: FutureWarning: Default solver will be changed to 'lbfgs' in 0.22. Specify a solver to silence this warning.\n",
      "  FutureWarning)\n",
      "C:\\Users\\khled\\AppData\\Local\\Continuum\\anaconda3\\lib\\site-packages\\sklearn\\linear_model\\logistic.py:460: FutureWarning: Default multi_class will be changed to 'auto' in 0.22. Specify the multi_class option to silence this warning.\n",
      "  \"this warning.\", FutureWarning)\n"
     ]
    },
    {
     "name": "stdout",
     "output_type": "stream",
     "text": [
      "accuracy = 68.48552338530067%\n",
      "              precision    recall  f1-score   support\n",
      "\n",
      "    negative       0.75      0.76      0.76       321\n",
      "     neutral       0.60      0.57      0.59       291\n",
      "    positive       0.70      0.71      0.70       286\n",
      "\n",
      "   micro avg       0.68      0.68      0.68       898\n",
      "   macro avg       0.68      0.68      0.68       898\n",
      "weighted avg       0.68      0.68      0.68       898\n",
      "\n"
     ]
    }
   ],
   "source": [
    "#Logistic Regression\n",
    "Clf = LogisticRegression()\n",
    "Clf.fit(trData,trLabels)\n",
    "Pred = Clf.predict(tsData)\n",
    "acc = metrics.accuracy_score(tsLabels,Pred)\n",
    "print ('accuracy = '+str(acc*100)+'%')\n",
    "print (metrics.classification_report(tsLabels,Pred))"
   ]
  }
 ],
 "metadata": {
  "kernelspec": {
   "display_name": "Python 3",
   "language": "python",
   "name": "python3"
  },
  "language_info": {
   "codemirror_mode": {
    "name": "ipython",
    "version": 3
   },
   "file_extension": ".py",
   "mimetype": "text/x-python",
   "name": "python",
   "nbconvert_exporter": "python",
   "pygments_lexer": "ipython3",
   "version": "3.7.0"
  }
 },
 "nbformat": 4,
 "nbformat_minor": 2
}
